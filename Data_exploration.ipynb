{
  "nbformat": 4,
  "nbformat_minor": 0,
  "metadata": {
    "colab": {
      "name": "Data_exploration.ipynb",
      "provenance": []
    },
    "kernelspec": {
      "name": "python3",
      "display_name": "Python 3"
    },
    "language_info": {
      "name": "python"
    }
  },
  "cells": [
    {
      "cell_type": "code",
      "source": [
        "!pip install ir-datasets"
      ],
      "metadata": {
        "colab": {
          "base_uri": "https://localhost:8080/"
        },
        "id": "SmBVOftJdMUA",
        "outputId": "e3c6135a-f55f-4eff-8796-2bc902353ab7"
      },
      "execution_count": 1,
      "outputs": [
        {
          "output_type": "stream",
          "name": "stdout",
          "text": [
            "Requirement already satisfied: ir-datasets in /usr/local/lib/python3.7/dist-packages (0.5.1)\n",
            "Requirement already satisfied: warc3-wet-clueweb09>=0.2.5 in /usr/local/lib/python3.7/dist-packages (from ir-datasets) (0.2.5)\n",
            "Requirement already satisfied: trec-car-tools>=2.5.4 in /usr/local/lib/python3.7/dist-packages (from ir-datasets) (2.6)\n",
            "Requirement already satisfied: lxml>=4.5.2 in /usr/local/lib/python3.7/dist-packages (from ir-datasets) (4.8.0)\n",
            "Requirement already satisfied: unlzw3>=0.2.1 in /usr/local/lib/python3.7/dist-packages (from ir-datasets) (0.2.1)\n",
            "Requirement already satisfied: ijson>=3.1.3 in /usr/local/lib/python3.7/dist-packages (from ir-datasets) (3.1.4)\n",
            "Requirement already satisfied: pyautocorpus>=0.1.1 in /usr/local/lib/python3.7/dist-packages (from ir-datasets) (0.1.8)\n",
            "Requirement already satisfied: zlib-state>=0.1.3 in /usr/local/lib/python3.7/dist-packages (from ir-datasets) (0.1.5)\n",
            "Requirement already satisfied: requests>=2.22.0 in /usr/local/lib/python3.7/dist-packages (from ir-datasets) (2.23.0)\n",
            "Requirement already satisfied: pyyaml>=5.3.1 in /usr/local/lib/python3.7/dist-packages (from ir-datasets) (6.0)\n",
            "Requirement already satisfied: lz4>=3.1.1 in /usr/local/lib/python3.7/dist-packages (from ir-datasets) (4.0.0)\n",
            "Requirement already satisfied: beautifulsoup4>=4.4.1 in /usr/local/lib/python3.7/dist-packages (from ir-datasets) (4.6.3)\n",
            "Requirement already satisfied: numpy>=1.18.1 in /usr/local/lib/python3.7/dist-packages (from ir-datasets) (1.21.6)\n",
            "Requirement already satisfied: warc3-wet>=0.2.3 in /usr/local/lib/python3.7/dist-packages (from ir-datasets) (0.2.3)\n",
            "Requirement already satisfied: tqdm>=4.38.0 in /usr/local/lib/python3.7/dist-packages (from ir-datasets) (4.64.0)\n",
            "Requirement already satisfied: certifi>=2017.4.17 in /usr/local/lib/python3.7/dist-packages (from requests>=2.22.0->ir-datasets) (2021.10.8)\n",
            "Collecting urllib3!=1.25.0,!=1.25.1,<1.26,>=1.21.1\n",
            "  Downloading urllib3-1.25.11-py2.py3-none-any.whl (127 kB)\n",
            "\u001b[K     |████████████████████████████████| 127 kB 5.2 MB/s \n",
            "\u001b[?25hRequirement already satisfied: idna<3,>=2.5 in /usr/local/lib/python3.7/dist-packages (from requests>=2.22.0->ir-datasets) (2.10)\n",
            "Requirement already satisfied: chardet<4,>=3.0.2 in /usr/local/lib/python3.7/dist-packages (from requests>=2.22.0->ir-datasets) (3.0.4)\n",
            "Requirement already satisfied: cbor>=1.0.0 in /usr/local/lib/python3.7/dist-packages (from trec-car-tools>=2.5.4->ir-datasets) (1.0.0)\n",
            "Installing collected packages: urllib3\n",
            "  Attempting uninstall: urllib3\n",
            "    Found existing installation: urllib3 1.26.9\n",
            "    Uninstalling urllib3-1.26.9:\n",
            "      Successfully uninstalled urllib3-1.26.9\n",
            "\u001b[31mERROR: pip's dependency resolver does not currently take into account all the packages that are installed. This behaviour is the source of the following dependency conflicts.\n",
            "elastic-transport 8.1.2 requires urllib3<2,>=1.26.2, but you have urllib3 1.25.11 which is incompatible.\n",
            "datascience 0.10.6 requires folium==0.2.1, but you have folium 0.8.3 which is incompatible.\u001b[0m\n",
            "Successfully installed urllib3-1.25.11\n"
          ]
        }
      ]
    },
    {
      "cell_type": "code",
      "source": [
        "!pip install elasticsearch"
      ],
      "metadata": {
        "colab": {
          "base_uri": "https://localhost:8080/"
        },
        "id": "1PA_ag_ndSik",
        "outputId": "da0da4ad-b439-41ca-9e75-f5bd203d3cee"
      },
      "execution_count": 2,
      "outputs": [
        {
          "output_type": "stream",
          "name": "stdout",
          "text": [
            "Requirement already satisfied: elasticsearch in /usr/local/lib/python3.7/dist-packages (8.2.0)\n",
            "Requirement already satisfied: elastic-transport<9,>=8 in /usr/local/lib/python3.7/dist-packages (from elasticsearch) (8.1.2)\n",
            "Requirement already satisfied: certifi in /usr/local/lib/python3.7/dist-packages (from elastic-transport<9,>=8->elasticsearch) (2021.10.8)\n",
            "Collecting urllib3<2,>=1.26.2\n",
            "  Using cached urllib3-1.26.9-py2.py3-none-any.whl (138 kB)\n",
            "Installing collected packages: urllib3\n",
            "  Attempting uninstall: urllib3\n",
            "    Found existing installation: urllib3 1.25.11\n",
            "    Uninstalling urllib3-1.25.11:\n",
            "      Successfully uninstalled urllib3-1.25.11\n",
            "\u001b[31mERROR: pip's dependency resolver does not currently take into account all the packages that are installed. This behaviour is the source of the following dependency conflicts.\n",
            "requests 2.23.0 requires urllib3!=1.25.0,!=1.25.1,<1.26,>=1.21.1, but you have urllib3 1.26.9 which is incompatible.\n",
            "datascience 0.10.6 requires folium==0.2.1, but you have folium 0.8.3 which is incompatible.\u001b[0m\n",
            "Successfully installed urllib3-1.26.9\n"
          ]
        }
      ]
    },
    {
      "cell_type": "code",
      "execution_count": 3,
      "metadata": {
        "colab": {
          "base_uri": "https://localhost:8080/"
        },
        "id": "pxxEWLdCdIxh",
        "outputId": "a94d069c-3bac-4773-c51d-b2dcf5d307f6"
      },
      "outputs": [
        {
          "output_type": "stream",
          "name": "stderr",
          "text": [
            "/usr/local/lib/python3.7/dist-packages/requests/__init__.py:91: RequestsDependencyWarning: urllib3 (1.26.9) or chardet (3.0.4) doesn't match a supported version!\n",
            "  RequestsDependencyWarning)\n"
          ]
        }
      ],
      "source": [
        "from datetime import datetime\n",
        "import csv\n",
        "from elasticsearch import Elasticsearch, helpers\n",
        "import ir_datasets\n",
        "import pandas as pd\n",
        "\n",
        "\n",
        "dataset = ir_datasets.load(\"clinicaltrials/2021\")"
      ]
    },
    {
      "cell_type": "code",
      "source": [
        "df = pd.DataFrame(dataset.docs_iter())"
      ],
      "metadata": {
        "id": "esYyxC75nEij"
      },
      "execution_count": 15,
      "outputs": []
    },
    {
      "cell_type": "code",
      "source": [
        "df"
      ],
      "metadata": {
        "colab": {
          "base_uri": "https://localhost:8080/",
          "height": 423
        },
        "id": "3fAp-sPyASxY",
        "outputId": "b47940cf-21c7-4c0a-a700-0846a904bc97"
      },
      "execution_count": 16,
      "outputs": [
        {
          "output_type": "execute_result",
          "data": {
            "text/plain": [
              "             doc_id                                              title  \\\n",
              "0       NCT00000102  Congenital Adrenal Hyperplasia: Calcium Channe...   \n",
              "1       NCT00000104  Does Lead Burden Alter Neuropsychological Deve...   \n",
              "2       NCT00000105  Vaccination With Tetanus and KLH to Assess Imm...   \n",
              "3       NCT00000106  41.8 Degree Centigrade Whole Body Hyperthermia...   \n",
              "4       NCT00000107  Body Water Content in Cyanotic Congenital Hear...   \n",
              "...             ...                                                ...   \n",
              "375575  NCT04862260  Cholesterol Disruption in Combination With FOL...   \n",
              "375576  NCT04862273  Native T1 CMR Imaging for Diagnosis of Cardiac...   \n",
              "375577  NCT04862286  Study to Evaluate Adverse Events and Change in...   \n",
              "375578  NCT04862299  Pelvic-perineal Disorders in Women With Sphinc...   \n",
              "375579  NCT04862312  Video Chat During Meals to Improve Nutritional...   \n",
              "\n",
              "       condition                                            summary  \\\n",
              "0                 \\n    \\n      This study will test the ability...   \n",
              "1                 \\n    \\n      Inner city children are at an in...   \n",
              "2                 \\n    \\n      The purpose of this study is to ...   \n",
              "3                 \\n    \\n      Recently a non-toxic system for ...   \n",
              "4                 \\n    \\n      Adults with cyanotic congenital ...   \n",
              "...          ...                                                ...   \n",
              "375575            \\n    \\n      Cardiovascular diseases and canc...   \n",
              "375576            \\n    \\n      The study aims to test the diagn...   \n",
              "375577            \\n    \\n      Psoriasis is a chronic, systemic...   \n",
              "375578            \\n    \\n      According to INSEE, in 2016, in ...   \n",
              "375579            \\n    \\n      The VideoDining study is a Stage...   \n",
              "\n",
              "                                     detailed_description  \\\n",
              "0       \\n    \\n      This protocol is designed to ass...   \n",
              "1                                                           \n",
              "2       \\n    \\n      Patients will receive each vacci...   \n",
              "3                                                           \n",
              "4                                                           \n",
              "...                                                   ...   \n",
              "375575                                                      \n",
              "375576  \\n    \\n      Cardiac amyloidosis (CA) is an i...   \n",
              "375577                                                      \n",
              "375578                                                      \n",
              "375579  \\n    \\n      The U.S. population is growing o...   \n",
              "\n",
              "                                              eligibility  \n",
              "0       \\n      \\n        Inclusion Criteria:\\r\\n\\r\\n ...  \n",
              "1       \\n      \\n        Inclusion Criteria:\\r\\n\\r\\n ...  \n",
              "2       \\n      \\n        Inclusion Criteria:\\r\\n\\r\\n ...  \n",
              "3       \\n      \\n        Inclusion Criteria:\\r\\n\\r\\n ...  \n",
              "4       \\n      \\n        Inclusion Criteria:\\r\\n\\r\\n ...  \n",
              "...                                                   ...  \n",
              "375575  \\n      \\n        Inclusion Criteria:\\r\\n\\r\\n ...  \n",
              "375576  \\n      \\n        Inclusion Criteria:\\r\\n\\r\\n ...  \n",
              "375577  \\n      \\n        Inclusion Criteria:\\r\\n\\r\\n ...  \n",
              "375578  \\n      \\n        Inclusion Criteria:\\r\\n\\r\\n ...  \n",
              "375579  \\n      \\n        Inclusion Criteria:\\r\\n\\r\\n ...  \n",
              "\n",
              "[375580 rows x 6 columns]"
            ],
            "text/html": [
              "\n",
              "  <div id=\"df-f7479cb3-a74b-43c9-b3ab-cde024ee269e\">\n",
              "    <div class=\"colab-df-container\">\n",
              "      <div>\n",
              "<style scoped>\n",
              "    .dataframe tbody tr th:only-of-type {\n",
              "        vertical-align: middle;\n",
              "    }\n",
              "\n",
              "    .dataframe tbody tr th {\n",
              "        vertical-align: top;\n",
              "    }\n",
              "\n",
              "    .dataframe thead th {\n",
              "        text-align: right;\n",
              "    }\n",
              "</style>\n",
              "<table border=\"1\" class=\"dataframe\">\n",
              "  <thead>\n",
              "    <tr style=\"text-align: right;\">\n",
              "      <th></th>\n",
              "      <th>doc_id</th>\n",
              "      <th>title</th>\n",
              "      <th>condition</th>\n",
              "      <th>summary</th>\n",
              "      <th>detailed_description</th>\n",
              "      <th>eligibility</th>\n",
              "    </tr>\n",
              "  </thead>\n",
              "  <tbody>\n",
              "    <tr>\n",
              "      <th>0</th>\n",
              "      <td>NCT00000102</td>\n",
              "      <td>Congenital Adrenal Hyperplasia: Calcium Channe...</td>\n",
              "      <td></td>\n",
              "      <td>\\n    \\n      This study will test the ability...</td>\n",
              "      <td>\\n    \\n      This protocol is designed to ass...</td>\n",
              "      <td>\\n      \\n        Inclusion Criteria:\\r\\n\\r\\n ...</td>\n",
              "    </tr>\n",
              "    <tr>\n",
              "      <th>1</th>\n",
              "      <td>NCT00000104</td>\n",
              "      <td>Does Lead Burden Alter Neuropsychological Deve...</td>\n",
              "      <td></td>\n",
              "      <td>\\n    \\n      Inner city children are at an in...</td>\n",
              "      <td></td>\n",
              "      <td>\\n      \\n        Inclusion Criteria:\\r\\n\\r\\n ...</td>\n",
              "    </tr>\n",
              "    <tr>\n",
              "      <th>2</th>\n",
              "      <td>NCT00000105</td>\n",
              "      <td>Vaccination With Tetanus and KLH to Assess Imm...</td>\n",
              "      <td></td>\n",
              "      <td>\\n    \\n      The purpose of this study is to ...</td>\n",
              "      <td>\\n    \\n      Patients will receive each vacci...</td>\n",
              "      <td>\\n      \\n        Inclusion Criteria:\\r\\n\\r\\n ...</td>\n",
              "    </tr>\n",
              "    <tr>\n",
              "      <th>3</th>\n",
              "      <td>NCT00000106</td>\n",
              "      <td>41.8 Degree Centigrade Whole Body Hyperthermia...</td>\n",
              "      <td></td>\n",
              "      <td>\\n    \\n      Recently a non-toxic system for ...</td>\n",
              "      <td></td>\n",
              "      <td>\\n      \\n        Inclusion Criteria:\\r\\n\\r\\n ...</td>\n",
              "    </tr>\n",
              "    <tr>\n",
              "      <th>4</th>\n",
              "      <td>NCT00000107</td>\n",
              "      <td>Body Water Content in Cyanotic Congenital Hear...</td>\n",
              "      <td></td>\n",
              "      <td>\\n    \\n      Adults with cyanotic congenital ...</td>\n",
              "      <td></td>\n",
              "      <td>\\n      \\n        Inclusion Criteria:\\r\\n\\r\\n ...</td>\n",
              "    </tr>\n",
              "    <tr>\n",
              "      <th>...</th>\n",
              "      <td>...</td>\n",
              "      <td>...</td>\n",
              "      <td>...</td>\n",
              "      <td>...</td>\n",
              "      <td>...</td>\n",
              "      <td>...</td>\n",
              "    </tr>\n",
              "    <tr>\n",
              "      <th>375575</th>\n",
              "      <td>NCT04862260</td>\n",
              "      <td>Cholesterol Disruption in Combination With FOL...</td>\n",
              "      <td></td>\n",
              "      <td>\\n    \\n      Cardiovascular diseases and canc...</td>\n",
              "      <td></td>\n",
              "      <td>\\n      \\n        Inclusion Criteria:\\r\\n\\r\\n ...</td>\n",
              "    </tr>\n",
              "    <tr>\n",
              "      <th>375576</th>\n",
              "      <td>NCT04862273</td>\n",
              "      <td>Native T1 CMR Imaging for Diagnosis of Cardiac...</td>\n",
              "      <td></td>\n",
              "      <td>\\n    \\n      The study aims to test the diagn...</td>\n",
              "      <td>\\n    \\n      Cardiac amyloidosis (CA) is an i...</td>\n",
              "      <td>\\n      \\n        Inclusion Criteria:\\r\\n\\r\\n ...</td>\n",
              "    </tr>\n",
              "    <tr>\n",
              "      <th>375577</th>\n",
              "      <td>NCT04862286</td>\n",
              "      <td>Study to Evaluate Adverse Events and Change in...</td>\n",
              "      <td></td>\n",
              "      <td>\\n    \\n      Psoriasis is a chronic, systemic...</td>\n",
              "      <td></td>\n",
              "      <td>\\n      \\n        Inclusion Criteria:\\r\\n\\r\\n ...</td>\n",
              "    </tr>\n",
              "    <tr>\n",
              "      <th>375578</th>\n",
              "      <td>NCT04862299</td>\n",
              "      <td>Pelvic-perineal Disorders in Women With Sphinc...</td>\n",
              "      <td></td>\n",
              "      <td>\\n    \\n      According to INSEE, in 2016, in ...</td>\n",
              "      <td></td>\n",
              "      <td>\\n      \\n        Inclusion Criteria:\\r\\n\\r\\n ...</td>\n",
              "    </tr>\n",
              "    <tr>\n",
              "      <th>375579</th>\n",
              "      <td>NCT04862312</td>\n",
              "      <td>Video Chat During Meals to Improve Nutritional...</td>\n",
              "      <td></td>\n",
              "      <td>\\n    \\n      The VideoDining study is a Stage...</td>\n",
              "      <td>\\n    \\n      The U.S. population is growing o...</td>\n",
              "      <td>\\n      \\n        Inclusion Criteria:\\r\\n\\r\\n ...</td>\n",
              "    </tr>\n",
              "  </tbody>\n",
              "</table>\n",
              "<p>375580 rows × 6 columns</p>\n",
              "</div>\n",
              "      <button class=\"colab-df-convert\" onclick=\"convertToInteractive('df-f7479cb3-a74b-43c9-b3ab-cde024ee269e')\"\n",
              "              title=\"Convert this dataframe to an interactive table.\"\n",
              "              style=\"display:none;\">\n",
              "        \n",
              "  <svg xmlns=\"http://www.w3.org/2000/svg\" height=\"24px\"viewBox=\"0 0 24 24\"\n",
              "       width=\"24px\">\n",
              "    <path d=\"M0 0h24v24H0V0z\" fill=\"none\"/>\n",
              "    <path d=\"M18.56 5.44l.94 2.06.94-2.06 2.06-.94-2.06-.94-.94-2.06-.94 2.06-2.06.94zm-11 1L8.5 8.5l.94-2.06 2.06-.94-2.06-.94L8.5 2.5l-.94 2.06-2.06.94zm10 10l.94 2.06.94-2.06 2.06-.94-2.06-.94-.94-2.06-.94 2.06-2.06.94z\"/><path d=\"M17.41 7.96l-1.37-1.37c-.4-.4-.92-.59-1.43-.59-.52 0-1.04.2-1.43.59L10.3 9.45l-7.72 7.72c-.78.78-.78 2.05 0 2.83L4 21.41c.39.39.9.59 1.41.59.51 0 1.02-.2 1.41-.59l7.78-7.78 2.81-2.81c.8-.78.8-2.07 0-2.86zM5.41 20L4 18.59l7.72-7.72 1.47 1.35L5.41 20z\"/>\n",
              "  </svg>\n",
              "      </button>\n",
              "      \n",
              "  <style>\n",
              "    .colab-df-container {\n",
              "      display:flex;\n",
              "      flex-wrap:wrap;\n",
              "      gap: 12px;\n",
              "    }\n",
              "\n",
              "    .colab-df-convert {\n",
              "      background-color: #E8F0FE;\n",
              "      border: none;\n",
              "      border-radius: 50%;\n",
              "      cursor: pointer;\n",
              "      display: none;\n",
              "      fill: #1967D2;\n",
              "      height: 32px;\n",
              "      padding: 0 0 0 0;\n",
              "      width: 32px;\n",
              "    }\n",
              "\n",
              "    .colab-df-convert:hover {\n",
              "      background-color: #E2EBFA;\n",
              "      box-shadow: 0px 1px 2px rgba(60, 64, 67, 0.3), 0px 1px 3px 1px rgba(60, 64, 67, 0.15);\n",
              "      fill: #174EA6;\n",
              "    }\n",
              "\n",
              "    [theme=dark] .colab-df-convert {\n",
              "      background-color: #3B4455;\n",
              "      fill: #D2E3FC;\n",
              "    }\n",
              "\n",
              "    [theme=dark] .colab-df-convert:hover {\n",
              "      background-color: #434B5C;\n",
              "      box-shadow: 0px 1px 3px 1px rgba(0, 0, 0, 0.15);\n",
              "      filter: drop-shadow(0px 1px 2px rgba(0, 0, 0, 0.3));\n",
              "      fill: #FFFFFF;\n",
              "    }\n",
              "  </style>\n",
              "\n",
              "      <script>\n",
              "        const buttonEl =\n",
              "          document.querySelector('#df-f7479cb3-a74b-43c9-b3ab-cde024ee269e button.colab-df-convert');\n",
              "        buttonEl.style.display =\n",
              "          google.colab.kernel.accessAllowed ? 'block' : 'none';\n",
              "\n",
              "        async function convertToInteractive(key) {\n",
              "          const element = document.querySelector('#df-f7479cb3-a74b-43c9-b3ab-cde024ee269e');\n",
              "          const dataTable =\n",
              "            await google.colab.kernel.invokeFunction('convertToInteractive',\n",
              "                                                     [key], {});\n",
              "          if (!dataTable) return;\n",
              "\n",
              "          const docLinkHtml = 'Like what you see? Visit the ' +\n",
              "            '<a target=\"_blank\" href=https://colab.research.google.com/notebooks/data_table.ipynb>data table notebook</a>'\n",
              "            + ' to learn more about interactive tables.';\n",
              "          element.innerHTML = '';\n",
              "          dataTable['output_type'] = 'display_data';\n",
              "          await google.colab.output.renderOutput(dataTable, element);\n",
              "          const docLink = document.createElement('div');\n",
              "          docLink.innerHTML = docLinkHtml;\n",
              "          element.appendChild(docLink);\n",
              "        }\n",
              "      </script>\n",
              "    </div>\n",
              "  </div>\n",
              "  "
            ]
          },
          "metadata": {},
          "execution_count": 16
        }
      ]
    },
    {
      "cell_type": "code",
      "source": [
        "df[\"content\"] = df['title'].astype(str) +\" \"+ df[\"summary\"].astype(str) + \" \" + df['detailed_description'].astype(str) + \" \" + df['eligibility']"
      ],
      "metadata": {
        "id": "zLQK8YhdAXsD"
      },
      "execution_count": 17,
      "outputs": []
    },
    {
      "cell_type": "code",
      "source": [
        "df[\"content\"][0]"
      ],
      "metadata": {
        "colab": {
          "base_uri": "https://localhost:8080/",
          "height": 109
        },
        "id": "Ir3LO5Z7CVUR",
        "outputId": "3abda039-c0d0-418c-c5fa-e3217b1dc52a"
      },
      "execution_count": 18,
      "outputs": [
        {
          "output_type": "execute_result",
          "data": {
            "text/plain": [
              "'Congenital Adrenal Hyperplasia: Calcium Channels as Therapeutic Targets \\n    \\n      This study will test the ability of extended release nifedipine (Procardia XL), a blood\\r\\n      pressure medication, to permit a decrease in the dose of glucocorticoid medication children\\r\\n      take to treat congenital adrenal hyperplasia (CAH).\\r\\n    \\n   \\n    \\n      This protocol is designed to assess both acute and chronic effects of the calcium channel\\r\\n      antagonist, nifedipine, on the hypothalamic-pituitary-adrenal axis in patients with\\r\\n      congenital adrenal hyperplasia. The multicenter trial is composed of two phases and will\\r\\n      involve a double-blind, placebo-controlled parallel design. The goal of Phase I is to examine\\r\\n      the ability of nifedipine vs. placebo to decrease adrenocorticotropic hormone (ACTH) levels,\\r\\n      as well as to begin to assess the dose-dependency of nifedipine effects. The goal of Phase II\\r\\n      is to evaluate the long-term effects of nifedipine; that is, can attenuation of ACTH release\\r\\n      by nifedipine permit a decrease in the dosage of glucocorticoid needed to suppress the HPA\\r\\n      axis? Such a decrease would, in turn, reduce the deleterious effects of glucocorticoid\\r\\n      treatment in CAH.\\r\\n    \\n   \\n      \\n        Inclusion Criteria:\\r\\n\\r\\n          -  diagnosed with Congenital Adrenal Hyperplasia (CAH)\\r\\n\\r\\n          -  normal ECG during baseline evaluation\\r\\n\\r\\n        Exclusion Criteria:\\r\\n\\r\\n          -  history of liver disease, or elevated liver function tests\\r\\n\\r\\n          -  history of cardiovascular disease\\r\\n      \\n    '"
            ],
            "application/vnd.google.colaboratory.intrinsic+json": {
              "type": "string"
            }
          },
          "metadata": {},
          "execution_count": 18
        }
      ]
    },
    {
      "cell_type": "code",
      "source": [
        "df[\"content\"] = df[\"content\"].replace('\\n','', regex=True)\n",
        "df['content'] = df[\"content\"].replace('\\r','', regex=True)"
      ],
      "metadata": {
        "id": "Rp33UnBiBLwe"
      },
      "execution_count": 21,
      "outputs": []
    },
    {
      "cell_type": "code",
      "source": [
        "df[\"content\"][0]"
      ],
      "metadata": {
        "colab": {
          "base_uri": "https://localhost:8080/",
          "height": 109
        },
        "id": "oguou7c-CYji",
        "outputId": "460a2284-790f-4631-9ea9-524277c324c3"
      },
      "execution_count": 22,
      "outputs": [
        {
          "output_type": "execute_result",
          "data": {
            "text/plain": [
              "'Congenital Adrenal Hyperplasia: Calcium Channels as Therapeutic Targets           This study will test the ability of extended release nifedipine (Procardia XL), a blood      pressure medication, to permit a decrease in the dose of glucocorticoid medication children      take to treat congenital adrenal hyperplasia (CAH).                 This protocol is designed to assess both acute and chronic effects of the calcium channel      antagonist, nifedipine, on the hypothalamic-pituitary-adrenal axis in patients with      congenital adrenal hyperplasia. The multicenter trial is composed of two phases and will      involve a double-blind, placebo-controlled parallel design. The goal of Phase I is to examine      the ability of nifedipine vs. placebo to decrease adrenocorticotropic hormone (ACTH) levels,      as well as to begin to assess the dose-dependency of nifedipine effects. The goal of Phase II      is to evaluate the long-term effects of nifedipine; that is, can attenuation of ACTH release      by nifedipine permit a decrease in the dosage of glucocorticoid needed to suppress the HPA      axis? Such a decrease would, in turn, reduce the deleterious effects of glucocorticoid      treatment in CAH.                     Inclusion Criteria:          -  diagnosed with Congenital Adrenal Hyperplasia (CAH)          -  normal ECG during baseline evaluation        Exclusion Criteria:          -  history of liver disease, or elevated liver function tests          -  history of cardiovascular disease          '"
            ],
            "application/vnd.google.colaboratory.intrinsic+json": {
              "type": "string"
            }
          },
          "metadata": {},
          "execution_count": 22
        }
      ]
    },
    {
      "cell_type": "code",
      "source": [
        "df"
      ],
      "metadata": {
        "colab": {
          "base_uri": "https://localhost:8080/",
          "height": 423
        },
        "id": "EmoYT9rbDQC3",
        "outputId": "1d0f85bc-7aff-4500-de80-72ee93681266"
      },
      "execution_count": 27,
      "outputs": [
        {
          "output_type": "execute_result",
          "data": {
            "text/plain": [
              "             doc_id                                            content\n",
              "0       NCT00000102  Congenital Adrenal Hyperplasia: Calcium Channe...\n",
              "1       NCT00000104  Does Lead Burden Alter Neuropsychological Deve...\n",
              "2       NCT00000105  Vaccination With Tetanus and KLH to Assess Imm...\n",
              "3       NCT00000106  41.8 Degree Centigrade Whole Body Hyperthermia...\n",
              "4       NCT00000107  Body Water Content in Cyanotic Congenital Hear...\n",
              "...             ...                                                ...\n",
              "375575  NCT04862260  Cholesterol Disruption in Combination With FOL...\n",
              "375576  NCT04862273  Native T1 CMR Imaging for Diagnosis of Cardiac...\n",
              "375577  NCT04862286  Study to Evaluate Adverse Events and Change in...\n",
              "375578  NCT04862299  Pelvic-perineal Disorders in Women With Sphinc...\n",
              "375579  NCT04862312  Video Chat During Meals to Improve Nutritional...\n",
              "\n",
              "[375580 rows x 2 columns]"
            ],
            "text/html": [
              "\n",
              "  <div id=\"df-9d52557c-9300-45e4-8603-523bf618a1c2\">\n",
              "    <div class=\"colab-df-container\">\n",
              "      <div>\n",
              "<style scoped>\n",
              "    .dataframe tbody tr th:only-of-type {\n",
              "        vertical-align: middle;\n",
              "    }\n",
              "\n",
              "    .dataframe tbody tr th {\n",
              "        vertical-align: top;\n",
              "    }\n",
              "\n",
              "    .dataframe thead th {\n",
              "        text-align: right;\n",
              "    }\n",
              "</style>\n",
              "<table border=\"1\" class=\"dataframe\">\n",
              "  <thead>\n",
              "    <tr style=\"text-align: right;\">\n",
              "      <th></th>\n",
              "      <th>doc_id</th>\n",
              "      <th>content</th>\n",
              "    </tr>\n",
              "  </thead>\n",
              "  <tbody>\n",
              "    <tr>\n",
              "      <th>0</th>\n",
              "      <td>NCT00000102</td>\n",
              "      <td>Congenital Adrenal Hyperplasia: Calcium Channe...</td>\n",
              "    </tr>\n",
              "    <tr>\n",
              "      <th>1</th>\n",
              "      <td>NCT00000104</td>\n",
              "      <td>Does Lead Burden Alter Neuropsychological Deve...</td>\n",
              "    </tr>\n",
              "    <tr>\n",
              "      <th>2</th>\n",
              "      <td>NCT00000105</td>\n",
              "      <td>Vaccination With Tetanus and KLH to Assess Imm...</td>\n",
              "    </tr>\n",
              "    <tr>\n",
              "      <th>3</th>\n",
              "      <td>NCT00000106</td>\n",
              "      <td>41.8 Degree Centigrade Whole Body Hyperthermia...</td>\n",
              "    </tr>\n",
              "    <tr>\n",
              "      <th>4</th>\n",
              "      <td>NCT00000107</td>\n",
              "      <td>Body Water Content in Cyanotic Congenital Hear...</td>\n",
              "    </tr>\n",
              "    <tr>\n",
              "      <th>...</th>\n",
              "      <td>...</td>\n",
              "      <td>...</td>\n",
              "    </tr>\n",
              "    <tr>\n",
              "      <th>375575</th>\n",
              "      <td>NCT04862260</td>\n",
              "      <td>Cholesterol Disruption in Combination With FOL...</td>\n",
              "    </tr>\n",
              "    <tr>\n",
              "      <th>375576</th>\n",
              "      <td>NCT04862273</td>\n",
              "      <td>Native T1 CMR Imaging for Diagnosis of Cardiac...</td>\n",
              "    </tr>\n",
              "    <tr>\n",
              "      <th>375577</th>\n",
              "      <td>NCT04862286</td>\n",
              "      <td>Study to Evaluate Adverse Events and Change in...</td>\n",
              "    </tr>\n",
              "    <tr>\n",
              "      <th>375578</th>\n",
              "      <td>NCT04862299</td>\n",
              "      <td>Pelvic-perineal Disorders in Women With Sphinc...</td>\n",
              "    </tr>\n",
              "    <tr>\n",
              "      <th>375579</th>\n",
              "      <td>NCT04862312</td>\n",
              "      <td>Video Chat During Meals to Improve Nutritional...</td>\n",
              "    </tr>\n",
              "  </tbody>\n",
              "</table>\n",
              "<p>375580 rows × 2 columns</p>\n",
              "</div>\n",
              "      <button class=\"colab-df-convert\" onclick=\"convertToInteractive('df-9d52557c-9300-45e4-8603-523bf618a1c2')\"\n",
              "              title=\"Convert this dataframe to an interactive table.\"\n",
              "              style=\"display:none;\">\n",
              "        \n",
              "  <svg xmlns=\"http://www.w3.org/2000/svg\" height=\"24px\"viewBox=\"0 0 24 24\"\n",
              "       width=\"24px\">\n",
              "    <path d=\"M0 0h24v24H0V0z\" fill=\"none\"/>\n",
              "    <path d=\"M18.56 5.44l.94 2.06.94-2.06 2.06-.94-2.06-.94-.94-2.06-.94 2.06-2.06.94zm-11 1L8.5 8.5l.94-2.06 2.06-.94-2.06-.94L8.5 2.5l-.94 2.06-2.06.94zm10 10l.94 2.06.94-2.06 2.06-.94-2.06-.94-.94-2.06-.94 2.06-2.06.94z\"/><path d=\"M17.41 7.96l-1.37-1.37c-.4-.4-.92-.59-1.43-.59-.52 0-1.04.2-1.43.59L10.3 9.45l-7.72 7.72c-.78.78-.78 2.05 0 2.83L4 21.41c.39.39.9.59 1.41.59.51 0 1.02-.2 1.41-.59l7.78-7.78 2.81-2.81c.8-.78.8-2.07 0-2.86zM5.41 20L4 18.59l7.72-7.72 1.47 1.35L5.41 20z\"/>\n",
              "  </svg>\n",
              "      </button>\n",
              "      \n",
              "  <style>\n",
              "    .colab-df-container {\n",
              "      display:flex;\n",
              "      flex-wrap:wrap;\n",
              "      gap: 12px;\n",
              "    }\n",
              "\n",
              "    .colab-df-convert {\n",
              "      background-color: #E8F0FE;\n",
              "      border: none;\n",
              "      border-radius: 50%;\n",
              "      cursor: pointer;\n",
              "      display: none;\n",
              "      fill: #1967D2;\n",
              "      height: 32px;\n",
              "      padding: 0 0 0 0;\n",
              "      width: 32px;\n",
              "    }\n",
              "\n",
              "    .colab-df-convert:hover {\n",
              "      background-color: #E2EBFA;\n",
              "      box-shadow: 0px 1px 2px rgba(60, 64, 67, 0.3), 0px 1px 3px 1px rgba(60, 64, 67, 0.15);\n",
              "      fill: #174EA6;\n",
              "    }\n",
              "\n",
              "    [theme=dark] .colab-df-convert {\n",
              "      background-color: #3B4455;\n",
              "      fill: #D2E3FC;\n",
              "    }\n",
              "\n",
              "    [theme=dark] .colab-df-convert:hover {\n",
              "      background-color: #434B5C;\n",
              "      box-shadow: 0px 1px 3px 1px rgba(0, 0, 0, 0.15);\n",
              "      filter: drop-shadow(0px 1px 2px rgba(0, 0, 0, 0.3));\n",
              "      fill: #FFFFFF;\n",
              "    }\n",
              "  </style>\n",
              "\n",
              "      <script>\n",
              "        const buttonEl =\n",
              "          document.querySelector('#df-9d52557c-9300-45e4-8603-523bf618a1c2 button.colab-df-convert');\n",
              "        buttonEl.style.display =\n",
              "          google.colab.kernel.accessAllowed ? 'block' : 'none';\n",
              "\n",
              "        async function convertToInteractive(key) {\n",
              "          const element = document.querySelector('#df-9d52557c-9300-45e4-8603-523bf618a1c2');\n",
              "          const dataTable =\n",
              "            await google.colab.kernel.invokeFunction('convertToInteractive',\n",
              "                                                     [key], {});\n",
              "          if (!dataTable) return;\n",
              "\n",
              "          const docLinkHtml = 'Like what you see? Visit the ' +\n",
              "            '<a target=\"_blank\" href=https://colab.research.google.com/notebooks/data_table.ipynb>data table notebook</a>'\n",
              "            + ' to learn more about interactive tables.';\n",
              "          element.innerHTML = '';\n",
              "          dataTable['output_type'] = 'display_data';\n",
              "          await google.colab.output.renderOutput(dataTable, element);\n",
              "          const docLink = document.createElement('div');\n",
              "          docLink.innerHTML = docLinkHtml;\n",
              "          element.appendChild(docLink);\n",
              "        }\n",
              "      </script>\n",
              "    </div>\n",
              "  </div>\n",
              "  "
            ]
          },
          "metadata": {},
          "execution_count": 27
        }
      ]
    }
  ]
}