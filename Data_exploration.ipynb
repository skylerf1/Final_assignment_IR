{
 "nbformat": 4,
 "nbformat_minor": 0,
 "metadata": {
  "colab": {
   "name": "Data_exploration.ipynb",
   "provenance": []
  },
  "kernelspec": {
   "name": "python3",
   "display_name": "Python 3"
  },
  "language_info": {
   "name": "python"
  }
 },
 "cells": [
  {
   "cell_type": "code",
   "source": [
    "!pip install ir-datasets"
   ],
   "metadata": {
    "colab": {
     "base_uri": "https://localhost:8080/"
    },
    "id": "SmBVOftJdMUA",
    "outputId": "e3c6135a-f55f-4eff-8796-2bc902353ab7",
    "pycharm": {
     "name": "#%%\n"
    }
   },
   "execution_count": 1,
   "outputs": [
    {
     "name": "stdout",
     "output_type": "stream",
     "text": [
      "Requirement already satisfied: ir-datasets in /home/job/anaconda3/envs/IR/lib/python3.9/site-packages (0.5.1)\r\n",
      "Requirement already satisfied: warc3-wet-clueweb09>=0.2.5 in /home/job/anaconda3/envs/IR/lib/python3.9/site-packages (from ir-datasets) (0.2.5)\r\n",
      "Requirement already satisfied: pyautocorpus>=0.1.1 in /home/job/anaconda3/envs/IR/lib/python3.9/site-packages (from ir-datasets) (0.1.8)\r\n",
      "Requirement already satisfied: warc3-wet>=0.2.3 in /home/job/anaconda3/envs/IR/lib/python3.9/site-packages (from ir-datasets) (0.2.3)\r\n",
      "Requirement already satisfied: beautifulsoup4>=4.4.1 in /home/job/anaconda3/envs/IR/lib/python3.9/site-packages (from ir-datasets) (4.11.1)\r\n",
      "Requirement already satisfied: numpy>=1.18.1 in /home/job/anaconda3/envs/IR/lib/python3.9/site-packages (from ir-datasets) (1.22.4)\r\n",
      "Requirement already satisfied: ijson>=3.1.3 in /home/job/anaconda3/envs/IR/lib/python3.9/site-packages (from ir-datasets) (3.1.4)\r\n",
      "Requirement already satisfied: lxml>=4.5.2 in /home/job/anaconda3/envs/IR/lib/python3.9/site-packages (from ir-datasets) (4.8.0)\r\n",
      "Requirement already satisfied: tqdm>=4.38.0 in /home/job/anaconda3/envs/IR/lib/python3.9/site-packages (from ir-datasets) (4.64.0)\r\n",
      "Requirement already satisfied: pyyaml>=5.3.1 in /home/job/anaconda3/envs/IR/lib/python3.9/site-packages (from ir-datasets) (6.0)\r\n",
      "Requirement already satisfied: unlzw3>=0.2.1 in /home/job/anaconda3/envs/IR/lib/python3.9/site-packages (from ir-datasets) (0.2.1)\r\n",
      "Requirement already satisfied: trec-car-tools>=2.5.4 in /home/job/anaconda3/envs/IR/lib/python3.9/site-packages (from ir-datasets) (2.6)\r\n",
      "Requirement already satisfied: requests>=2.22.0 in /home/job/anaconda3/envs/IR/lib/python3.9/site-packages (from ir-datasets) (2.27.1)\r\n",
      "Requirement already satisfied: lz4>=3.1.1 in /home/job/anaconda3/envs/IR/lib/python3.9/site-packages (from ir-datasets) (4.0.0)\r\n",
      "Requirement already satisfied: zlib-state>=0.1.3 in /home/job/anaconda3/envs/IR/lib/python3.9/site-packages (from ir-datasets) (0.1.5)\r\n",
      "Requirement already satisfied: soupsieve>1.2 in /home/job/anaconda3/envs/IR/lib/python3.9/site-packages (from beautifulsoup4>=4.4.1->ir-datasets) (2.3.2.post1)\r\n",
      "Requirement already satisfied: charset-normalizer~=2.0.0 in /home/job/anaconda3/envs/IR/lib/python3.9/site-packages (from requests>=2.22.0->ir-datasets) (2.0.12)\r\n",
      "Requirement already satisfied: idna<4,>=2.5 in /home/job/anaconda3/envs/IR/lib/python3.9/site-packages (from requests>=2.22.0->ir-datasets) (3.3)\r\n",
      "Requirement already satisfied: certifi>=2017.4.17 in /home/job/anaconda3/envs/IR/lib/python3.9/site-packages (from requests>=2.22.0->ir-datasets) (2022.5.18.1)\r\n",
      "Requirement already satisfied: urllib3<1.27,>=1.21.1 in /home/job/anaconda3/envs/IR/lib/python3.9/site-packages (from requests>=2.22.0->ir-datasets) (1.26.9)\r\n",
      "Requirement already satisfied: cbor>=1.0.0 in /home/job/anaconda3/envs/IR/lib/python3.9/site-packages (from trec-car-tools>=2.5.4->ir-datasets) (1.0.0)\r\n"
     ]
    }
   ]
  },
  {
   "cell_type": "code",
   "source": [
    "!pip install elasticsearch"
   ],
   "metadata": {
    "colab": {
     "base_uri": "https://localhost:8080/"
    },
    "id": "1PA_ag_ndSik",
    "outputId": "da0da4ad-b439-41ca-9e75-f5bd203d3cee",
    "pycharm": {
     "name": "#%%\n"
    }
   },
   "execution_count": 2,
   "outputs": [
    {
     "name": "stdout",
     "output_type": "stream",
     "text": [
      "Requirement already satisfied: elasticsearch in /home/job/anaconda3/envs/IR/lib/python3.9/site-packages (7.9.1)\r\n",
      "Requirement already satisfied: certifi in /home/job/anaconda3/envs/IR/lib/python3.9/site-packages (from elasticsearch) (2022.5.18.1)\r\n",
      "Requirement already satisfied: urllib3>=1.21.1 in /home/job/anaconda3/envs/IR/lib/python3.9/site-packages (from elasticsearch) (1.26.9)\r\n"
     ]
    }
   ]
  },
  {
   "cell_type": "code",
   "execution_count": 3,
   "metadata": {
    "colab": {
     "base_uri": "https://localhost:8080/"
    },
    "id": "pxxEWLdCdIxh",
    "outputId": "a94d069c-3bac-4773-c51d-b2dcf5d307f6",
    "pycharm": {
     "name": "#%%\n"
    }
   },
   "outputs": [],
   "source": [
    "from datetime import datetime\n",
    "import csv\n",
    "from elasticsearch import Elasticsearch, helpers\n",
    "import ir_datasets\n",
    "import pandas as pd\n",
    "\n",
    "\n",
    "dataset = ir_datasets.load(\"clinicaltrials/2021\")"
   ]
  },
  {
   "cell_type": "code",
   "source": [
    "df = pd.DataFrame(dataset.docs_iter())"
   ],
   "metadata": {
    "id": "esYyxC75nEij",
    "pycharm": {
     "name": "#%%\n"
    }
   },
   "execution_count": 4,
   "outputs": []
  },
  {
   "cell_type": "code",
   "source": [
    "df[\"content\"] = df['title'].astype(str) +\" \"+ df[\"summary\"].astype(str) + \" \" + df['detailed_description'].astype(str) + \" \" + df['eligibility']"
   ],
   "metadata": {
    "id": "zLQK8YhdAXsD",
    "pycharm": {
     "name": "#%%\n"
    }
   },
   "execution_count": 6,
   "outputs": []
  },
  {
   "cell_type": "code",
   "source": [
    "df[\"content\"][0]"
   ],
   "metadata": {
    "colab": {
     "base_uri": "https://localhost:8080/",
     "height": 109
    },
    "id": "Ir3LO5Z7CVUR",
    "outputId": "3abda039-c0d0-418c-c5fa-e3217b1dc52a",
    "pycharm": {
     "name": "#%%\n"
    }
   },
   "execution_count": 7,
   "outputs": [
    {
     "data": {
      "text/plain": "'Congenital Adrenal Hyperplasia: Calcium Channels as Therapeutic Targets \\n    \\n      This study will test the ability of extended release nifedipine (Procardia XL), a blood\\r\\n      pressure medication, to permit a decrease in the dose of glucocorticoid medication children\\r\\n      take to treat congenital adrenal hyperplasia (CAH).\\r\\n    \\n   \\n    \\n      This protocol is designed to assess both acute and chronic effects of the calcium channel\\r\\n      antagonist, nifedipine, on the hypothalamic-pituitary-adrenal axis in patients with\\r\\n      congenital adrenal hyperplasia. The multicenter trial is composed of two phases and will\\r\\n      involve a double-blind, placebo-controlled parallel design. The goal of Phase I is to examine\\r\\n      the ability of nifedipine vs. placebo to decrease adrenocorticotropic hormone (ACTH) levels,\\r\\n      as well as to begin to assess the dose-dependency of nifedipine effects. The goal of Phase II\\r\\n      is to evaluate the long-term effects of nifedipine; that is, can attenuation of ACTH release\\r\\n      by nifedipine permit a decrease in the dosage of glucocorticoid needed to suppress the HPA\\r\\n      axis? Such a decrease would, in turn, reduce the deleterious effects of glucocorticoid\\r\\n      treatment in CAH.\\r\\n    \\n   \\n      \\n        Inclusion Criteria:\\r\\n\\r\\n          -  diagnosed with Congenital Adrenal Hyperplasia (CAH)\\r\\n\\r\\n          -  normal ECG during baseline evaluation\\r\\n\\r\\n        Exclusion Criteria:\\r\\n\\r\\n          -  history of liver disease, or elevated liver function tests\\r\\n\\r\\n          -  history of cardiovascular disease\\r\\n      \\n    '"
     },
     "execution_count": 7,
     "metadata": {},
     "output_type": "execute_result"
    }
   ]
  },
  {
   "cell_type": "code",
   "source": [
    "df[\"content\"] = df[\"content\"].replace('\\n','', regex=True)\n",
    "df['content'] = df[\"content\"].replace('\\r','', regex=True)"
   ],
   "metadata": {
    "id": "Rp33UnBiBLwe",
    "pycharm": {
     "name": "#%%\n"
    }
   },
   "execution_count": 8,
   "outputs": []
  },
  {
   "cell_type": "code",
   "source": [
    "df[\"content\"][0]"
   ],
   "metadata": {
    "colab": {
     "base_uri": "https://localhost:8080/",
     "height": 109
    },
    "id": "oguou7c-CYji",
    "outputId": "460a2284-790f-4631-9ea9-524277c324c3",
    "pycharm": {
     "name": "#%%\n"
    }
   },
   "execution_count": 9,
   "outputs": [
    {
     "data": {
      "text/plain": "'Congenital Adrenal Hyperplasia: Calcium Channels as Therapeutic Targets           This study will test the ability of extended release nifedipine (Procardia XL), a blood      pressure medication, to permit a decrease in the dose of glucocorticoid medication children      take to treat congenital adrenal hyperplasia (CAH).                 This protocol is designed to assess both acute and chronic effects of the calcium channel      antagonist, nifedipine, on the hypothalamic-pituitary-adrenal axis in patients with      congenital adrenal hyperplasia. The multicenter trial is composed of two phases and will      involve a double-blind, placebo-controlled parallel design. The goal of Phase I is to examine      the ability of nifedipine vs. placebo to decrease adrenocorticotropic hormone (ACTH) levels,      as well as to begin to assess the dose-dependency of nifedipine effects. The goal of Phase II      is to evaluate the long-term effects of nifedipine; that is, can attenuation of ACTH release      by nifedipine permit a decrease in the dosage of glucocorticoid needed to suppress the HPA      axis? Such a decrease would, in turn, reduce the deleterious effects of glucocorticoid      treatment in CAH.                     Inclusion Criteria:          -  diagnosed with Congenital Adrenal Hyperplasia (CAH)          -  normal ECG during baseline evaluation        Exclusion Criteria:          -  history of liver disease, or elevated liver function tests          -  history of cardiovascular disease          '"
     },
     "execution_count": 9,
     "metadata": {},
     "output_type": "execute_result"
    }
   ]
  }
 ]
}